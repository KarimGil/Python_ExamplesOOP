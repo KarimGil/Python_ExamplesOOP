{
 "cells": [
  {
   "cell_type": "markdown",
   "metadata": {},
   "source": [
    "# INHERITANCE"
   ]
  },
  {
   "cell_type": "code",
   "execution_count": 65,
   "metadata": {},
   "outputs": [],
   "source": [
    "class Car():\n",
    "    def __init__(self, make, model, year):\n",
    "        self.make = make\n",
    "        self.model = model\n",
    "        self.year = year\n",
    "        self.odometer_reading = 0\n",
    "        \n",
    "    def get_descriptive_name(self):\n",
    "        \n",
    "        long_name = str(self.year) + ' ' + self.make + ' '+ self.model\n",
    "        return long_name.title()\n",
    "    \n",
    "    def read_odometer(self):\n",
    "        print(f\"the car has travelled {self.odometer_reading} miles\")\n",
    "    \n",
    "    def update_odometer(self, mileage):\n",
    "        self.odometer_reading = mileage\n",
    "        \n",
    "    def increase_odometer(self, mileage):\n",
    "        if mileage >0:\n",
    "            self.odometer_reading +=mileage\n",
    "        else:\n",
    "            print(\"you can not rol back odometer\")\n",
    "            \n",
    "    def getFuelTankSize(self):\n",
    "        print('100Liters')\n",
    "    "
   ]
  },
  {
   "cell_type": "code",
   "execution_count": 66,
   "metadata": {},
   "outputs": [],
   "source": [
    "class ElectricCar(Car):\n",
    "    def __init__(self,make,model,year):\n",
    "        super().__init__(make,model,year)"
   ]
  },
  {
   "cell_type": "code",
   "execution_count": 67,
   "metadata": {},
   "outputs": [],
   "source": [
    "eCar = ElectricCar('toyota', 'carolla',1990)"
   ]
  },
  {
   "cell_type": "code",
   "execution_count": 68,
   "metadata": {},
   "outputs": [
    {
     "name": "stdout",
     "output_type": "stream",
     "text": [
      "the car has travelled 0 miles\n"
     ]
    }
   ],
   "source": [
    "eCar.read_odometer()"
   ]
  },
  {
   "cell_type": "code",
   "execution_count": 69,
   "metadata": {},
   "outputs": [],
   "source": [
    "eCar.increase_odometer(22)"
   ]
  },
  {
   "cell_type": "code",
   "execution_count": 70,
   "metadata": {},
   "outputs": [
    {
     "name": "stdout",
     "output_type": "stream",
     "text": [
      "the car has travelled 22 miles\n"
     ]
    }
   ],
   "source": [
    "eCar.read_odometer()"
   ]
  },
  {
   "cell_type": "code",
   "execution_count": 71,
   "metadata": {},
   "outputs": [
    {
     "data": {
      "text/plain": [
       "'toyota'"
      ]
     },
     "execution_count": 71,
     "metadata": {},
     "output_type": "execute_result"
    }
   ],
   "source": [
    "eCar.make"
   ]
  },
  {
   "cell_type": "code",
   "execution_count": 72,
   "metadata": {},
   "outputs": [
    {
     "data": {
      "text/plain": [
       "'carolla'"
      ]
     },
     "execution_count": 72,
     "metadata": {},
     "output_type": "execute_result"
    }
   ],
   "source": [
    "eCar.model"
   ]
  },
  {
   "cell_type": "code",
   "execution_count": 73,
   "metadata": {},
   "outputs": [
    {
     "data": {
      "text/plain": [
       "1990"
      ]
     },
     "execution_count": 73,
     "metadata": {},
     "output_type": "execute_result"
    }
   ],
   "source": [
    "eCar.year"
   ]
  },
  {
   "cell_type": "code",
   "execution_count": 74,
   "metadata": {},
   "outputs": [],
   "source": [
    "eCar.increase_odometer(18)"
   ]
  },
  {
   "cell_type": "code",
   "execution_count": 75,
   "metadata": {},
   "outputs": [
    {
     "name": "stdout",
     "output_type": "stream",
     "text": [
      "the car has travelled 40 miles\n"
     ]
    }
   ],
   "source": [
    "eCar.read_odometer()\n"
   ]
  },
  {
   "cell_type": "raw",
   "metadata": {},
   "source": []
  },
  {
   "cell_type": "code",
   "execution_count": 76,
   "metadata": {},
   "outputs": [
    {
     "name": "stdout",
     "output_type": "stream",
     "text": [
      "the car has travelled 40 miles\n"
     ]
    }
   ],
   "source": [
    "eCar.read_odometer()"
   ]
  },
  {
   "cell_type": "code",
   "execution_count": 77,
   "metadata": {},
   "outputs": [],
   "source": [
    "eCar.update_odometer(10)"
   ]
  },
  {
   "cell_type": "code",
   "execution_count": 78,
   "metadata": {},
   "outputs": [
    {
     "name": "stdout",
     "output_type": "stream",
     "text": [
      "the car has travelled 10 miles\n"
     ]
    }
   ],
   "source": [
    "eCar.read_odometer()"
   ]
  },
  {
   "cell_type": "code",
   "execution_count": 79,
   "metadata": {},
   "outputs": [
    {
     "name": "stdout",
     "output_type": "stream",
     "text": [
      "the car has travelled 10 miles\n"
     ]
    }
   ],
   "source": [
    "eCar.read_odometer()"
   ]
  },
  {
   "cell_type": "code",
   "execution_count": 80,
   "metadata": {},
   "outputs": [
    {
     "data": {
      "text/plain": [
       "10"
      ]
     },
     "execution_count": 80,
     "metadata": {},
     "output_type": "execute_result"
    }
   ],
   "source": [
    "eCar.odometer_reading"
   ]
  },
  {
   "cell_type": "code",
   "execution_count": 89,
   "metadata": {},
   "outputs": [],
   "source": [
    "class ElectricCar(Car):\n",
    "    def __init__(self,make,model,year):\n",
    "        super().__init__(make,model,year)\n",
    "        self.batterySize = 70\n",
    "        \n",
    "    def setBatterySize(self,batterySize):\n",
    "        self.batterySize = batterySize\n",
    "        \n",
    "    def getBatterySize(self):\n",
    "        print(f\"The Size of the Battery Car is {self.batterySize} \")\n",
    "        \n",
    "    def getFuelTankSize(self):\n",
    "        print(\"You dont have fuel\")\n",
    "    "
   ]
  },
  {
   "cell_type": "code",
   "execution_count": 90,
   "metadata": {},
   "outputs": [],
   "source": [
    "elecCar=ElectricCar(\"ABC ElectricCar\", \"NewCar\", 2019)"
   ]
  },
  {
   "cell_type": "code",
   "execution_count": 91,
   "metadata": {},
   "outputs": [],
   "source": [
    "elecCar.setBatterySize(200)"
   ]
  },
  {
   "cell_type": "code",
   "execution_count": 92,
   "metadata": {},
   "outputs": [
    {
     "name": "stdout",
     "output_type": "stream",
     "text": [
      "The Size of the Battery Car is 200 \n"
     ]
    }
   ],
   "source": [
    "elecCar.getBatterySize()"
   ]
  },
  {
   "cell_type": "code",
   "execution_count": 93,
   "metadata": {},
   "outputs": [
    {
     "name": "stdout",
     "output_type": "stream",
     "text": [
      "You dont have fuel\n"
     ]
    }
   ],
   "source": [
    "elecCar.getFuelTankSize()"
   ]
  },
  {
   "cell_type": "markdown",
   "metadata": {},
   "source": [
    "# Instance as Attribute"
   ]
  },
  {
   "cell_type": "code",
   "execution_count": 94,
   "metadata": {},
   "outputs": [],
   "source": [
    "class Battery():\n",
    "    def __init__(self, manufacturer,watt,date):\n",
    "        self.manufacturer = manufacturer\n",
    "        self.watt = watt\n",
    "        self.date = date\n",
    "        \n",
    "        \n",
    "    def setBatterySize(self,batterySize):\n",
    "        self.batterySize = batterySize\n",
    "        \n",
    "    def getBatterySize(self):\n",
    "        print(f\"The Size of the Battery Car is {self.batterySize} \")\n",
    "  \n",
    "        "
   ]
  },
  {
   "cell_type": "code",
   "execution_count": 95,
   "metadata": {},
   "outputs": [],
   "source": [
    "class ElectricCar(Car):\n",
    "    def __init__(self,make,model,year):\n",
    "        super().__init__(make,model,year)\n",
    "        self.battery = Battery(\"Osaka\", 200,2019)\n",
    "    def getFuelTankSize(self):\n",
    "        print(\"Car dont have fuel\")\n",
    "        \n",
    "        "
   ]
  },
  {
   "cell_type": "code",
   "execution_count": 96,
   "metadata": {},
   "outputs": [],
   "source": [
    "eCar = ElectricCar(\"abc\",\"xyz\",2019)"
   ]
  },
  {
   "cell_type": "code",
   "execution_count": 98,
   "metadata": {},
   "outputs": [
    {
     "data": {
      "text/plain": [
       "'Osaka'"
      ]
     },
     "execution_count": 98,
     "metadata": {},
     "output_type": "execute_result"
    }
   ],
   "source": [
    "eCar.battery.manufacturer"
   ]
  },
  {
   "cell_type": "code",
   "execution_count": 99,
   "metadata": {},
   "outputs": [
    {
     "data": {
      "text/plain": [
       "200"
      ]
     },
     "execution_count": 99,
     "metadata": {},
     "output_type": "execute_result"
    }
   ],
   "source": [
    "eCar.battery.watt"
   ]
  },
  {
   "cell_type": "code",
   "execution_count": 100,
   "metadata": {},
   "outputs": [
    {
     "data": {
      "text/plain": [
       "2019"
      ]
     },
     "execution_count": 100,
     "metadata": {},
     "output_type": "execute_result"
    }
   ],
   "source": [
    "eCar.battery.date"
   ]
  },
  {
   "cell_type": "code",
   "execution_count": 104,
   "metadata": {},
   "outputs": [],
   "source": [
    "class Engine(ElectricCar):\n",
    "    def __init__ (self,name,performance,cc):\n",
    "        super().__init__(make,model,year)\n",
    "        self.name = name\n",
    "        self.performance = performance\n",
    "        self.cc = cc\n",
    "        \n",
    "    def oilDrip(self):\n",
    "        print(\"Engine oil Perfect\")\n",
    "    def howManyCC(self):\n",
    "        print(f\"engine is {self.cc} CC\")"
   ]
  },
  {
   "cell_type": "code",
   "execution_count": 109,
   "metadata": {},
   "outputs": [],
   "source": [
    "class ElectricCar(Car):\n",
    "    def __init__(self,make,model,year):\n",
    "        super().__init__(make,model,year)\n",
    "        self.battery = Battery(\"Osaka\", 200,2019)\n",
    "        self.engine = Engine(\"Suzuki\", \"Great\", 1000)\n",
    "    def getFuelTankSize(self):\n",
    "        print(\"Car dont have fuel\")\n",
    "        "
   ]
  },
  {
   "cell_type": "markdown",
   "metadata": {},
   "source": [
    "# Restaurant Example"
   ]
  },
  {
   "cell_type": "code",
   "execution_count": 113,
   "metadata": {},
   "outputs": [],
   "source": [
    "class Restaurant():\n",
    "    def __init__(self,restaurantName,cusineType):\n",
    "        self.restaurantName = restaurantName\n",
    "        self.cusineType = cusineType\n",
    "        \n",
    "    def describe_restaurant(self):\n",
    "        print(f\"The Name Of Restaurant Is {self.restaurantName}\")\n",
    "        print(f\"The type of Cusine is {self.cusineType}\")\n",
    "    def open_restaurant(self):\n",
    "        print(f\"{self.restaurantName} is open today\")"
   ]
  },
  {
   "cell_type": "code",
   "execution_count": 114,
   "metadata": {},
   "outputs": [],
   "source": [
    "r1 = Restaurant (\"China Town\", \"Chineese\")\n"
   ]
  },
  {
   "cell_type": "code",
   "execution_count": 115,
   "metadata": {},
   "outputs": [
    {
     "name": "stdout",
     "output_type": "stream",
     "text": [
      "China Town\n",
      "Chineese\n"
     ]
    }
   ],
   "source": [
    "print(r1.restaurantName)\n",
    "print(r1.cusineType)"
   ]
  },
  {
   "cell_type": "code",
   "execution_count": 116,
   "metadata": {},
   "outputs": [
    {
     "name": "stdout",
     "output_type": "stream",
     "text": [
      "The Name Of Restaurant Is China Town\n",
      "The type of Cusine is Chineese\n",
      "China Town is open today\n"
     ]
    }
   ],
   "source": [
    "r1.describe_restaurant()\n",
    "r1.open_restaurant()"
   ]
  },
  {
   "cell_type": "code",
   "execution_count": null,
   "metadata": {},
   "outputs": [],
   "source": []
  }
 ],
 "metadata": {
  "kernelspec": {
   "display_name": "Python 3",
   "language": "python",
   "name": "python3"
  },
  "language_info": {
   "codemirror_mode": {
    "name": "ipython",
    "version": 3
   },
   "file_extension": ".py",
   "mimetype": "text/x-python",
   "name": "python",
   "nbconvert_exporter": "python",
   "pygments_lexer": "ipython3",
   "version": "3.7.3"
  }
 },
 "nbformat": 4,
 "nbformat_minor": 2
}
